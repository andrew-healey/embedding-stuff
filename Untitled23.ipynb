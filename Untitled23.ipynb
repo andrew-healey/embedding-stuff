{
  "cells": [
    {
      "cell_type": "code",
      "execution_count": 1,
      "metadata": {
        "colab": {
          "base_uri": "https://localhost:8080/"
        },
        "id": "A88OyhAHomH1",
        "outputId": "d8a55acf-014f-4fcf-f51d-ab20bfd23041"
      },
      "outputs": [
        {
          "name": "stdout",
          "output_type": "stream",
          "text": [
            "\u001b[33mWARNING: You are using pip version 21.2.4; however, version 23.3.2 is available.\n",
            "You should consider upgrading via the '/Applications/Xcode.app/Contents/Developer/usr/bin/python3 -m pip install --upgrade pip' command.\u001b[0m\n",
            "Note: you may need to restart the kernel to use updated packages.\n",
            "env: VOYAGE_API_KEY=pa-gMw1sHgi8agvl2QYoGka_j3cYKo5xLdY-bfSvw8AOk4\n"
          ]
        }
      ],
      "source": [
        "%pip install -q --upgrade einops voyageai openai\n",
        "%env VOYAGE_API_KEY=pa-gMw1sHgi8agvl2QYoGka_j3cYKo5xLdY-bfSvw8AOk4"
      ]
    },
    {
      "cell_type": "code",
      "execution_count": 2,
      "metadata": {
        "colab": {
          "base_uri": "https://localhost:8080/",
          "height": 101,
          "referenced_widgets": [
            "e0447abe66e0411cba639563bb5d43ef",
            "fadeff35a86d48c29ed5b559b2de75c8",
            "c8f3ac2f1e2a464dbdfa781b40da5a8c",
            "5ed9d8d5490e4670b3ef732af2feb5ac",
            "ddaa0780a71a4231944819950117ff97",
            "b23ff8d3071b4f48aeaf73c38973314b",
            "846a9be319a148f78466917538b2a186",
            "0cbffaa3365546c083ff2bc555a62951",
            "279b2498a5904ec287625ea4c2531cf2",
            "12647b6611554c2b9a3422c1840fb0ee",
            "69ac2a0ce4eb43b182ceced64838148d"
          ]
        },
        "id": "NFFv4gFJoKMm",
        "outputId": "ff084603-d80d-4fce-ea7b-6e10b9ee0de4"
      },
      "outputs": [
        {
          "name": "stderr",
          "output_type": "stream",
          "text": [
            "<All keys matched successfully>\n"
          ]
        },
        {
          "name": "stdout",
          "output_type": "stream",
          "text": [
            "tensor([[ 0.0091,  0.0410, -0.0110,  ...,  0.0052, -0.0244, -0.0348],\n",
            "        [-0.0032,  0.0080, -0.0255,  ...,  0.0421, -0.0296,  0.0188]])\n"
          ]
        }
      ],
      "source": [
        "import torch\n",
        "import torch.nn.functional as F\n",
        "from transformers import AutoTokenizer, AutoModel\n",
        "\n",
        "def mean_pooling(model_output, attention_mask):\n",
        "    token_embeddings = model_output[0]\n",
        "    input_mask_expanded = attention_mask.unsqueeze(-1).expand(token_embeddings.size()).float()\n",
        "    return torch.sum(token_embeddings * input_mask_expanded, 1) / torch.clamp(input_mask_expanded.sum(1), min=1e-9)\n",
        "\n",
        "sentences = ['What is TSNE?', 'Who is Laurens van der Maaten?']\n",
        "\n",
        "tokenizer = AutoTokenizer.from_pretrained('bert-base-uncased')\n",
        "model = AutoModel.from_pretrained('nomic-ai/nomic-embed-text-v1', trust_remote_code=True)\n",
        "model.eval()\n",
        "\n",
        "def get_embeddings_nomic(sentences):\n",
        "    encoded_input = tokenizer(sentences, padding=True, truncation=True, return_tensors='pt')\n",
        "\n",
        "    with torch.no_grad():\n",
        "        model_output = model(**encoded_input)\n",
        "\n",
        "    embeddings = mean_pooling(model_output, encoded_input['attention_mask'])\n",
        "    embeddings = F.normalize(embeddings, p=2, dim=1)\n",
        "    return embeddings\n",
        "\n",
        "embeddings = get_embeddings_nomic(sentences)\n",
        "print(embeddings)\n"
      ]
    },
    {
      "cell_type": "code",
      "execution_count": 3,
      "metadata": {},
      "outputs": [
        {
          "name": "stdout",
          "output_type": "stream",
          "text": [
            "tensor([[ 0.0185,  0.0181,  0.0522,  ...,  0.0027,  0.0395, -0.0464],\n",
            "        [ 0.0051, -0.0164,  0.0126,  ...,  0.0129,  0.0360, -0.0258]])\n"
          ]
        }
      ],
      "source": [
        "import os\n",
        "import voyageai\n",
        "import torch\n",
        "\n",
        "vo = voyageai.Client(os.environ.get(\"VOYAGE_API_KEY\"))\n",
        "\n",
        "# Get the embedding of the documents\n",
        "def get_embeddings_voyage(sentences):\n",
        "    batch_size = 128\n",
        "    documents_embeddings = []\n",
        "    for i in range(0, len(sentences), batch_size):\n",
        "        batch_sentences = sentences[i:i+batch_size]\n",
        "        batch_embeddings = vo.embed(batch_sentences, model=\"voyage-code-2\").embeddings\n",
        "        documents_embeddings.extend(batch_embeddings)\n",
        "    return torch.tensor(documents_embeddings)\n",
        "\n",
        "print(get_embeddings_voyage(sentences))"
      ]
    },
    {
      "cell_type": "code",
      "execution_count": 4,
      "metadata": {},
      "outputs": [
        {
          "name": "stdout",
          "output_type": "stream",
          "text": [
            "huggingface/tokenizers: The current process just got forked, after parallelism has already been used. Disabling parallelism to avoid deadlocks...\n",
            "To disable this warning, you can either:\n",
            "\t- Avoid using `tokenizers` before the fork if possible\n",
            "\t- Explicitly set the environment variable TOKENIZERS_PARALLELISM=(true | false)\n",
            "tensor([[-0.0212, -0.0139,  0.0041,  ..., -0.0161,  0.0056, -0.0048],\n",
            "        [ 0.0041, -0.0187, -0.0004,  ...,  0.0089, -0.0050, -0.0127]])\n"
          ]
        }
      ],
      "source": [
        "from openai import OpenAI\n",
        "client = OpenAI()\n",
        "\n",
        "def get_embeddings_openai(sentences):\n",
        "    resp = client.embeddings.create(\n",
        "        model=\"text-embedding-3-small\",\n",
        "        input=sentences,\n",
        "        encoding_format=\"float\"\n",
        "    )\n",
        "\n",
        "    return torch.tensor([r.embedding for r in resp.data])\n",
        "\n",
        "print(get_embeddings_openai(sentences))\n"
      ]
    },
    {
      "cell_type": "code",
      "execution_count": 5,
      "metadata": {
        "colab": {
          "base_uri": "https://localhost:8080/"
        },
        "id": "SPH1N0JioqDj",
        "outputId": "327ba66f-3a73-4c91-e505-4457718adb2f"
      },
      "outputs": [],
      "source": [
        "import os\n",
        "if not os.path.exists(\"HumanEval.jsonl\"):\n",
        "    !curl -L https://github.com/openai/human-eval/raw/master/data/HumanEval.jsonl.gz | gunzip > HumanEval.jsonl\n"
      ]
    },
    {
      "cell_type": "code",
      "execution_count": 6,
      "metadata": {
        "colab": {
          "base_uri": "https://localhost:8080/"
        },
        "id": "Y9JvaVmho8Mr",
        "outputId": "0225fc91-5d23-4f7b-a59e-ceb913258785"
      },
      "outputs": [
        {
          "name": "stdout",
          "output_type": "stream",
          "text": [
            "--------------------task_id:\n",
            "HumanEval/0\n",
            "--------------------prompt:\n",
            "from typing import List\n",
            "\n",
            "\n",
            "def has_close_elements(numbers: List[float], threshold: float) -> bool:\n",
            "    \"\"\" Check if in given list of numbers, are any two numbers closer to each other than\n",
            "    given threshold.\n",
            "    >>> has_close_elements([1.0, 2.0, 3.0], 0.5)\n",
            "    False\n",
            "    >>> has_close_elements([1.0, 2.8, 3.0, 4.0, 5.0, 2.0], 0.3)\n",
            "    True\n",
            "    \"\"\"\n",
            "\n",
            "--------------------entry_point:\n",
            "has_close_elements\n",
            "--------------------canonical_solution:\n",
            "    for idx, elem in enumerate(numbers):\n",
            "        for idx2, elem2 in enumerate(numbers):\n",
            "            if idx != idx2:\n",
            "                distance = abs(elem - elem2)\n",
            "                if distance < threshold:\n",
            "                    return True\n",
            "\n",
            "    return False\n",
            "\n",
            "--------------------test:\n",
            "\n",
            "\n",
            "METADATA = {\n",
            "    'author': 'jt',\n",
            "    'dataset': 'test'\n",
            "}\n",
            "\n",
            "\n",
            "def check(candidate):\n",
            "    assert candidate([1.0, 2.0, 3.9, 4.0, 5.0, 2.2], 0.3) == True\n",
            "    assert candidate([1.0, 2.0, 3.9, 4.0, 5.0, 2.2], 0.05) == False\n",
            "    assert candidate([1.0, 2.0, 5.9, 4.0, 5.0], 0.95) == True\n",
            "    assert candidate([1.0, 2.0, 5.9, 4.0, 5.0], 0.8) == False\n",
            "    assert candidate([1.0, 2.0, 3.0, 4.0, 5.0, 2.0], 0.1) == True\n",
            "    assert candidate([1.1, 2.2, 3.1, 4.1, 5.1], 1.0) == True\n",
            "    assert candidate([1.1, 2.2, 3.1, 4.1, 5.1], 0.5) == False\n",
            "\n",
            "\n"
          ]
        }
      ],
      "source": [
        "import json\n",
        "with open(\"HumanEval.jsonl\",\"r\") as f:\n",
        "  objs = [json.loads(line) for line in f.readlines()]\n",
        "  obj = objs[0]\n",
        "for k,v in obj.items():\n",
        "  print(\"-\"*20+f\"{k}:\\n{v}\")\n",
        "\n"
      ]
    },
    {
      "cell_type": "markdown",
      "metadata": {},
      "source": [
        "# Naive testing\n",
        "\n",
        "Compare how often the top result matches the question."
      ]
    },
    {
      "cell_type": "code",
      "execution_count": 7,
      "metadata": {},
      "outputs": [],
      "source": [
        "def get_embeddings(sentences):\n",
        "    raise NotImplementedError"
      ]
    },
    {
      "cell_type": "code",
      "execution_count": 8,
      "metadata": {
        "id": "qXGQ7h7-p90i"
      },
      "outputs": [],
      "source": [
        "def enrich_obj(obj):\n",
        "  docstring = obj[\"prompt\"].split('\"\"\" ')[0].split(\">>>\")[0]\n",
        "  obj[\"docstring\"] = docstring\n",
        "\n",
        "for obj in objs:\n",
        "  enrich_obj(obj)\n",
        "\n",
        "# add embeddings to all objects\n",
        "all_questions = [obj[\"docstring\"] for obj in objs]\n",
        "all_solns = [obj[\"canonical_solution\"] for obj in objs]\n",
        "\n",
        "def update_embeddings():\n",
        "  all_embeddings = get_embeddings(all_questions + all_solns)\n",
        "  for i, obj in enumerate(objs):\n",
        "    obj[\"question_embedding\"] = all_embeddings[i]\n",
        "    obj[\"soln_embedding\"] = all_embeddings[i+len(objs)]\n"
      ]
    },
    {
      "cell_type": "code",
      "execution_count": 9,
      "metadata": {},
      "outputs": [],
      "source": [
        "def get_closest_soln_obj(question_obj):\n",
        "  question_embedding = question_obj[\"question_embedding\"]\n",
        "  soln_embeddings = [obj[\"soln_embedding\"] for obj in objs]\n",
        "  cosine_similarities = F.cosine_similarity(question_embedding.unsqueeze(0), torch.stack(soln_embeddings), dim=1)\n",
        "  closest_soln_idx = torch.argmax(cosine_similarities)\n",
        "  return objs[closest_soln_idx]\n",
        "\n",
        "def calculate_nn():\n",
        "  for obj in objs:\n",
        "      soln_obj = get_closest_soln_obj(obj)\n",
        "      obj[\"closest_soln_obj\"] = soln_obj\n",
        "      obj[\"correct\"] = soln_obj[\"canonical_solution\"] == obj[\"canonical_solution\"]\n",
        "\n",
        "      # if not obj[\"correct\"]:\n",
        "      #   print(f\"Question: {obj['prompt']}\")\n",
        "      #   print(f\"Correct answer: {obj['canonical_solution']}\")\n",
        "      #   print(f\"Closest soln: {soln_obj['canonical_solution']}\")\n",
        "      #   print(f\"Closest soln obj: {soln_obj['prompt']}\")\n",
        "      #   print(\"\\n\")\n",
        "\n",
        "  # get accuracy\n",
        "  correct = [obj[\"correct\"] for obj in objs]\n",
        "  print(f\"Accuracy: {sum(correct)/len(correct)}\")"
      ]
    },
    {
      "cell_type": "code",
      "execution_count": 10,
      "metadata": {},
      "outputs": [
        {
          "name": "stdout",
          "output_type": "stream",
          "text": [
            "Nomic\n",
            "Accuracy: 0.4268292682926829\n",
            "Voyage\n",
            "Accuracy: 0.9573170731707317\n",
            "OpenAI\n",
            "Accuracy: 0.8597560975609756\n"
          ]
        }
      ],
      "source": [
        "print(\"Nomic\")\n",
        "get_embeddings = get_embeddings_nomic\n",
        "update_embeddings()\n",
        "calculate_nn()\n",
        "print(\"Voyage\")\n",
        "get_embeddings = get_embeddings_voyage\n",
        "update_embeddings()\n",
        "calculate_nn()\n",
        "print(\"OpenAI\")\n",
        "get_embeddings = get_embeddings_openai\n",
        "update_embeddings()\n",
        "calculate_nn()\n"
      ]
    },
    {
      "cell_type": "code",
      "execution_count": 47,
      "metadata": {},
      "outputs": [
        {
          "name": "stderr",
          "output_type": "stream",
          "text": [
            "/Users/dooli/Library/Python/3.9/lib/python/site-packages/torch/nn/init.py:405: UserWarning: Initializing zero-element tensors is a no-op\n",
            "  warnings.warn(\"Initializing zero-element tensors is a no-op\")\n"
          ]
        },
        {
          "name": "stdout",
          "output_type": "stream",
          "text": [
            "Epoch 0 | Train loss: 0.0848546028137207 | Val loss: 0.17694494128227234\n",
            "Epoch 1 | Train loss: 0.11982345581054688 | Val loss: 0.24231582880020142\n",
            "Epoch 2 | Train loss: 0.047354698181152344 | Val loss: 0.21998107433319092\n",
            "Epoch 3 | Train loss: 0.07506561279296875 | Val loss: 0.20105145871639252\n",
            "Epoch 4 | Train loss: 0.02950429916381836 | Val loss: 0.13914333283901215\n",
            "Epoch 5 | Train loss: 0.08807039260864258 | Val loss: 0.21348750591278076\n",
            "Epoch 6 | Train loss: 0.021131515502929688 | Val loss: 0.20588313043117523\n",
            "Epoch 7 | Train loss: 0.7036294937133789 | Val loss: 0.5405191779136658\n",
            "Epoch 8 | Train loss: 0.7397217750549316 | Val loss: 0.5280127376317978\n",
            "Epoch 9 | Train loss: 0.04053163528442383 | Val loss: 0.1643853783607483\n",
            "Epoch 10 | Train loss: 0.11760902404785156 | Val loss: 0.2060108631849289\n",
            "Epoch 11 | Train loss: 0.7415556907653809 | Val loss: 0.5826247036457062\n",
            "Epoch 12 | Train loss: 0.7138199806213379 | Val loss: 0.5254580974578857\n",
            "Epoch 13 | Train loss: 0.0456390380859375 | Val loss: 0.20158904790878296\n",
            "Epoch 14 | Train loss: 0.7350869178771973 | Val loss: 0.512400209903717\n",
            "Epoch 15 | Train loss: 0.703035831451416 | Val loss: 0.5723879933357239\n",
            "Epoch 16 | Train loss: 0.7026224136352539 | Val loss: 0.5107029378414154\n",
            "Epoch 17 | Train loss: 0.030152320861816406 | Val loss: 0.1694304645061493\n",
            "Epoch 18 | Train loss: 0.0831599235534668 | Val loss: 0.19589507579803467\n",
            "Epoch 19 | Train loss: 0.7347579002380371 | Val loss: 0.5375606119632721\n",
            "Epoch 20 | Train loss: 0.0823068618774414 | Val loss: 0.2004566192626953\n",
            "Epoch 21 | Train loss: 0.11363601684570312 | Val loss: 0.1863417625427246\n",
            "Epoch 22 | Train loss: 0.08438968658447266 | Val loss: 0.1705552637577057\n",
            "Epoch 23 | Train loss: 0.10602807998657227 | Val loss: 0.2339007705450058\n",
            "Epoch 24 | Train loss: 0.7481575012207031 | Val loss: 0.5168847292661667\n",
            "Epoch 25 | Train loss: 0.023369312286376953 | Val loss: 0.184758722782135\n",
            "Epoch 26 | Train loss: 0.07879161834716797 | Val loss: 0.18743768334388733\n",
            "Epoch 27 | Train loss: 0.07295846939086914 | Val loss: 0.20107200741767883\n",
            "Epoch 28 | Train loss: 0.09373283386230469 | Val loss: 0.18319648504257202\n",
            "Epoch 29 | Train loss: 0.03929615020751953 | Val loss: 0.1419559121131897\n",
            "Epoch 30 | Train loss: 0.019423484802246094 | Val loss: 0.19215327501296997\n",
            "Epoch 31 | Train loss: 0.7426972389221191 | Val loss: 0.4976928234100342\n",
            "Epoch 32 | Train loss: 0.733466625213623 | Val loss: 0.5501808226108551\n",
            "Epoch 33 | Train loss: 0.7005701065063477 | Val loss: 0.48023721575737\n",
            "Epoch 34 | Train loss: 0.08636617660522461 | Val loss: 0.21381953358650208\n",
            "Epoch 35 | Train loss: 0.028580188751220703 | Val loss: 0.1567881852388382\n",
            "Epoch 36 | Train loss: 0.018889427185058594 | Val loss: 0.19112533330917358\n",
            "Epoch 37 | Train loss: 0.08750104904174805 | Val loss: 0.24477629363536835\n",
            "Epoch 38 | Train loss: 0.13853216171264648 | Val loss: 0.25597095489501953\n",
            "Epoch 39 | Train loss: 0.7018613815307617 | Val loss: 0.5180870592594147\n",
            "Epoch 40 | Train loss: 0.049054622650146484 | Val loss: 0.1390199363231659\n",
            "Epoch 41 | Train loss: 0.025385379791259766 | Val loss: 0.22228989005088806\n",
            "Epoch 42 | Train loss: 0.13964366912841797 | Val loss: 0.1816384121775627\n",
            "Epoch 43 | Train loss: 0.018685340881347656 | Val loss: 0.20145036280155182\n",
            "Epoch 44 | Train loss: 0.14961862564086914 | Val loss: 0.19414637982845306\n",
            "Epoch 45 | Train loss: 0.10795259475708008 | Val loss: 0.2396802306175232\n",
            "Epoch 46 | Train loss: 0.7448358535766602 | Val loss: 0.4634537398815155\n",
            "Epoch 47 | Train loss: 0.6995353698730469 | Val loss: 0.5288249552249908\n",
            "Epoch 48 | Train loss: 0.7364802360534668 | Val loss: 0.494961678981781\n",
            "Epoch 49 | Train loss: 0.07810020446777344 | Val loss: 0.20294177532196045\n"
          ]
        }
      ],
      "source": [
        "# Testing out LoRA for tuning models to code\n",
        "\n",
        "get_embeddings = get_embeddings_openai\n",
        "update_embeddings()\n",
        "\n",
        "train_objs,val_objs = objs[:int(len(objs)*0.8)],objs[int(len(objs)*0.8):]\n",
        "\n",
        "# make tiny little model to put questions close to their answers\n",
        "\n",
        "\n",
        "from torch import nn\n",
        "from torch.nn import functional as F\n",
        "\n",
        "class EmbeddingTuner(nn.Module):\n",
        "    def __init__(self,dim:int,rank:int):\n",
        "        super().__init__()\n",
        "        self.rank = rank\n",
        "        self.dim = dim\n",
        "        self.lora_left = nn.Linear(dim,rank)\n",
        "        self.relu = nn.ReLU()\n",
        "        self.lora_right = nn.Linear(rank,dim)\n",
        "\n",
        "    def forward(self,embedding):\n",
        "        return embedding + self.lora_right(self.relu(self.lora_left(embedding)))\n",
        "\n",
        "\n",
        "dim = train_objs[0][\"question_embedding\"].shape[0]\n",
        "rank = 0\n",
        "\n",
        "model = EmbeddingTuner(dim,rank)\n",
        "\n",
        "# train model to put questions close to their answers\n",
        "import torch.optim as optim\n",
        "import random\n",
        "import torch\n",
        "import torch.nn.functional as F\n",
        "import torch.optim as optim\n",
        "from torch.utils.data import DataLoader, Dataset\n",
        "\n",
        "import torch\n",
        "\n",
        "def info_nce_loss(anchors, positives, negatives, temperature=0.1):\n",
        "    # print(anchors.shape, positives.shape, negatives.shape)\n",
        "    # normalize\n",
        "    anchors = F.normalize(anchors, p=2, dim=1)\n",
        "    positives = F.normalize(positives, p=2, dim=1)\n",
        "    negatives = F.normalize(negatives, p=2, dim=2)\n",
        "\n",
        "    # compute logits\n",
        "    logits = torch.einsum(\"bd,bd->b\", anchors, positives) / temperature\n",
        "    logits = torch.cat([logits.unsqueeze(1), torch.einsum(\"bd,bmd->bm\", anchors, negatives) / temperature], dim=1)\n",
        "\n",
        "    # compute log prob\n",
        "    log_prob = logits - torch.logsumexp(logits, dim=1, keepdim=True)\n",
        "\n",
        "    # loss\n",
        "    loss = -log_prob[:, 0]\n",
        "    return loss.mean()\n",
        "\n",
        "# in every batch, add some random negative examples\n",
        "class LoraDataset(Dataset):\n",
        "    def __init__(self, objs, num_negatives=10):\n",
        "        self.objs = objs\n",
        "        self.num_negatives = num_negatives\n",
        "\n",
        "    def __len__(self):\n",
        "        return len(self.objs)\n",
        "\n",
        "    def __getitem__(self, idx):\n",
        "        obj = self.objs[idx]\n",
        "        question_embedding = obj[\"question_embedding\"]\n",
        "        soln_embedding = obj[\"soln_embedding\"]\n",
        "\n",
        "        # get some random negative examples\n",
        "        negative_idxs = random.sample(range(len(self.objs)), self.num_negatives)\n",
        "        negative_embeddings = torch.stack([self.objs[i][\"soln_embedding\"] for i in negative_idxs])\n",
        "\n",
        "        return question_embedding, soln_embedding, negative_embeddings\n",
        "\n",
        "def train(model, train_objs, val_objs, num_epochs=10, batch_size=32, lr=1e-3):\n",
        "    train_dataset = LoraDataset(train_objs)\n",
        "    val_dataset = LoraDataset(val_objs)\n",
        "    train_loader = DataLoader(train_dataset, batch_size=batch_size, shuffle=True)\n",
        "    val_loader = DataLoader(val_dataset, batch_size=batch_size, shuffle=False)\n",
        "\n",
        "    optimizer = optim.Adam(model.parameters(), lr=lr)\n",
        "    criterion = nn.CosineEmbeddingLoss()\n",
        "\n",
        "    for epoch in range(num_epochs):\n",
        "        model.train()\n",
        "        for question_embedding, soln_embedding, negative_embeddings in train_loader:\n",
        "            optimizer.zero_grad()\n",
        "            question_embedding = model(question_embedding)\n",
        "            soln_embedding = model(soln_embedding)\n",
        "            negative_embeddings = torch.stack([model(e) for e in negative_embeddings])\n",
        "\n",
        "            # Positive pairs have a target of 1, negative pairs have a target of -1\n",
        "            targets = torch.cat([torch.ones(soln_embedding.size(0)), -torch.ones(negative_embeddings.size(0) * negative_embeddings.size(1))])\n",
        "            embeddings = torch.cat([soln_embedding.unsqueeze(1), negative_embeddings], dim=1)\n",
        "            dim = question_embedding.shape[-1]\n",
        "            # print(question_embedding.unsqueeze(1).repeat(1,embeddings.shape[1],1).shape, embeddings.shape, targets.shape)\n",
        "            loss = info_nce_loss(question_embedding, soln_embedding, negative_embeddings)\n",
        "            # loss = criterion(question_embedding.unsqueeze(1).repeat(1,embeddings.shape[1],1).view(-1,dim), embeddings.view(-1,dim), targets.squeeze())\n",
        "            loss.backward()\n",
        "            optimizer.step()\n",
        "\n",
        "        # evaluate on validation set\n",
        "        with torch.no_grad():\n",
        "            model.eval()\n",
        "            val_loss = 0\n",
        "            for question_embedding, soln_embedding, negative_embeddings in val_loader:\n",
        "                question_embedding = model(question_embedding)\n",
        "                soln_embedding = model(soln_embedding)\n",
        "                negative_embeddings = torch.stack([model(e) for e in negative_embeddings])\n",
        "\n",
        "                # Positive pairs have a target of 1, negative pairs have a target of -1\n",
        "                targets = torch.cat([torch.ones(soln_embedding.size(0)), -torch.ones(negative_embeddings.size(0) * negative_embeddings.size(1))])\n",
        "                embeddings = torch.cat([soln_embedding.unsqueeze(1), negative_embeddings], dim=1)\n",
        "                dim = question_embedding.shape[-1]\n",
        "                loss = info_nce_loss(question_embedding, soln_embedding, negative_embeddings)\n",
        "                val_loss += loss.item()\n",
        "\n",
        "        print(f\"Epoch {epoch} | Train loss: {loss.item()} | Val loss: {val_loss/len(val_loader)}\")\n",
        "\n",
        "train(model, train_objs, val_objs, num_epochs=50, batch_size=32, lr=1e-3)"
      ]
    },
    {
      "cell_type": "code",
      "execution_count": 48,
      "metadata": {},
      "outputs": [
        {
          "name": "stdout",
          "output_type": "stream",
          "text": [
            "Accuracy: 0.8902439024390244\n"
          ]
        }
      ],
      "source": [
        "@torch.no_grad()\n",
        "def get_embeddings_lora(sentences):\n",
        "    embeddings = get_embeddings_openai(sentences)\n",
        "    return model(embeddings)\n",
        "\n",
        "get_embeddings = get_embeddings_lora\n",
        "\n",
        "update_embeddings()\n",
        "calculate_nn()\n"
      ]
    },
    {
      "cell_type": "code",
      "execution_count": 49,
      "metadata": {},
      "outputs": [
        {
          "data": {
            "text/plain": [
              "0.9696969696969697"
            ]
          },
          "execution_count": 49,
          "metadata": {},
          "output_type": "execute_result"
        }
      ],
      "source": [
        "correct_val_objs = [obj for obj in val_objs if obj[\"correct\"]]\n",
        "len(correct_val_objs)/len(val_objs)"
      ]
    },
    {
      "cell_type": "code",
      "execution_count": 50,
      "metadata": {},
      "outputs": [
        {
          "data": {
            "image/png": "[encoded data removed]",
            "text/plain": [
              "<Figure size 1000x500 with 1 Axes>"
            ]
          },
          "metadata": {},
          "output_type": "display_data"
        }
      ],
      "source": [
        "from sklearn.manifold import TSNE\n",
        "import matplotlib.pyplot as plt\n",
        "import numpy as np\n",
        "\n",
        "def plot_qa_embeddings(question_embeddings, answer_embeddings):\n",
        "    # Combine question and answer embeddings for TSNE\n",
        "    combined_embeddings = np.vstack((question_embeddings, answer_embeddings))\n",
        "    \n",
        "    tsne = TSNE(n_components=2, random_state=0)\n",
        "    combined_embeddings_2d = tsne.fit_transform(combined_embeddings)\n",
        "    \n",
        "    # Split the transformed embeddings back into questions and answers\n",
        "    num_questions = question_embeddings.shape[0]\n",
        "    question_embeddings_2d = combined_embeddings_2d[:num_questions, :]\n",
        "    answer_embeddings_2d = combined_embeddings_2d[num_questions:, :]\n",
        "    \n",
        "    plt.figure(figsize=(10, 5))\n",
        "    plt.scatter(question_embeddings_2d[:, 0], question_embeddings_2d[:, 1], c='blue', label='Questions')\n",
        "    plt.scatter(answer_embeddings_2d[:, 0], answer_embeddings_2d[:, 1], c='red', label='Answers')\n",
        "    plt.title('t-SNE plot of Question and Answer Embeddings')\n",
        "    plt.xlabel('Dimension 1')\n",
        "    plt.ylabel('Dimension 2')\n",
        "    plt.legend()\n",
        "    plt.show()\n",
        "\n",
        "# Assuming `question_embeddings` and `answer_embeddings` are tensors of all question and answer embeddings\n",
        "# Convert tensors to numpy arrays if they're not already\n",
        "question_embeddings = torch.stack([obj[\"question_embedding\"] for obj in val_objs])\n",
        "answer_embeddings = torch.stack([obj[\"soln_embedding\"] for obj in val_objs])\n",
        "question_embeddings_np = question_embeddings.detach().cpu().numpy()\n",
        "answer_embeddings_np = answer_embeddings.detach().cpu().numpy()\n",
        "\n",
        "plot_qa_embeddings(question_embeddings_np, answer_embeddings_np)\n"
      ]
    }
  ],
  "metadata": {
    "colab": {
      "provenance": []
    },
    "kernelspec": {
      "display_name": "Python 3",
      "name": "python3"
    },
    "language_info": {
      "codemirror_mode": {
        "name": "ipython",
        "version": 3
      },
      "file_extension": ".py",
      "mimetype": "text/x-python",
      "name": "python",
      "nbconvert_exporter": "python",
      "pygments_lexer": "ipython3",
      "version": "3.9.6"
    },
    "widgets": {
      "application/vnd.jupyter.widget-state+json": {
        "0cbffaa3365546c083ff2bc555a62951": {
          "model_module": "@jupyter-widgets/base",
          "model_module_version": "1.2.0",
          "model_name": "LayoutModel",
          "state": {
            "_model_module": "@jupyter-widgets/base",
            "_model_module_version": "1.2.0",
            "_model_name": "LayoutModel",
            "_view_count": null,
            "_view_module": "@jupyter-widgets/base",
            "_view_module_version": "1.2.0",
            "_view_name": "LayoutView",
            "align_content": null,
            "align_items": null,
            "align_self": null,
            "border": null,
            "bottom": null,
            "display": null,
            "flex": null,
            "flex_flow": null,
            "grid_area": null,
            "grid_auto_columns": null,
            "grid_auto_flow": null,
            "grid_auto_rows": null,
            "grid_column": null,
            "grid_gap": null,
            "grid_row": null,
            "grid_template_areas": null,
            "grid_template_columns": null,
            "grid_template_rows": null,
            "height": null,
            "justify_content": null,
            "justify_items": null,
            "left": null,
            "margin": null,
            "max_height": null,
            "max_width": null,
            "min_height": null,
            "min_width": null,
            "object_fit": null,
            "object_position": null,
            "order": null,
            "overflow": null,
            "overflow_x": null,
            "overflow_y": null,
            "padding": null,
            "right": null,
            "top": null,
            "visibility": null,
            "width": null
          }
        },
        "12647b6611554c2b9a3422c1840fb0ee": {
          "model_module": "@jupyter-widgets/base",
          "model_module_version": "1.2.0",
          "model_name": "LayoutModel",
          "state": {
            "_model_module": "@jupyter-widgets/base",
            "_model_module_version": "1.2.0",
            "_model_name": "LayoutModel",
            "_view_count": null,
            "_view_module": "@jupyter-widgets/base",
            "_view_module_version": "1.2.0",
            "_view_name": "LayoutView",
            "align_content": null,
            "align_items": null,
            "align_self": null,
            "border": null,
            "bottom": null,
            "display": null,
            "flex": null,
            "flex_flow": null,
            "grid_area": null,
            "grid_auto_columns": null,
            "grid_auto_flow": null,
            "grid_auto_rows": null,
            "grid_column": null,
            "grid_gap": null,
            "grid_row": null,
            "grid_template_areas": null,
            "grid_template_columns": null,
            "grid_template_rows": null,
            "height": null,
            "justify_content": null,
            "justify_items": null,
            "left": null,
            "margin": null,
            "max_height": null,
            "max_width": null,
            "min_height": null,
            "min_width": null,
            "object_fit": null,
            "object_position": null,
            "order": null,
            "overflow": null,
            "overflow_x": null,
            "overflow_y": null,
            "padding": null,
            "right": null,
            "top": null,
            "visibility": null,
            "width": null
          }
        },
        "279b2498a5904ec287625ea4c2531cf2": {
          "model_module": "@jupyter-widgets/controls",
          "model_module_version": "1.5.0",
          "model_name": "ProgressStyleModel",
          "state": {
            "_model_module": "@jupyter-widgets/controls",
            "_model_module_version": "1.5.0",
            "_model_name": "ProgressStyleModel",
            "_view_count": null,
            "_view_module": "@jupyter-widgets/base",
            "_view_module_version": "1.2.0",
            "_view_name": "StyleView",
            "bar_color": null,
            "description_width": ""
          }
        },
        "5ed9d8d5490e4670b3ef732af2feb5ac": {
          "model_module": "@jupyter-widgets/controls",
          "model_module_version": "1.5.0",
          "model_name": "HTMLModel",
          "state": {
            "_dom_classes": [],
            "_model_module": "@jupyter-widgets/controls",
            "_model_module_version": "1.5.0",
            "_model_name": "HTMLModel",
            "_view_count": null,
            "_view_module": "@jupyter-widgets/controls",
            "_view_module_version": "1.5.0",
            "_view_name": "HTMLView",
            "description": "",
            "description_tooltip": null,
            "layout": "IPY_MODEL_12647b6611554c2b9a3422c1840fb0ee",
            "placeholder": "​",
            "style": "IPY_MODEL_69ac2a0ce4eb43b182ceced64838148d",
            "value": " 547M/547M [00:06&lt;00:00, 134MB/s]"
          }
        },
        "69ac2a0ce4eb43b182ceced64838148d": {
          "model_module": "@jupyter-widgets/controls",
          "model_module_version": "1.5.0",
          "model_name": "DescriptionStyleModel",
          "state": {
            "_model_module": "@jupyter-widgets/controls",
            "_model_module_version": "1.5.0",
            "_model_name": "DescriptionStyleModel",
            "_view_count": null,
            "_view_module": "@jupyter-widgets/base",
            "_view_module_version": "1.2.0",
            "_view_name": "StyleView",
            "description_width": ""
          }
        },
        "846a9be319a148f78466917538b2a186": {
          "model_module": "@jupyter-widgets/controls",
          "model_module_version": "1.5.0",
          "model_name": "DescriptionStyleModel",
          "state": {
            "_model_module": "@jupyter-widgets/controls",
            "_model_module_version": "1.5.0",
            "_model_name": "DescriptionStyleModel",
            "_view_count": null,
            "_view_module": "@jupyter-widgets/base",
            "_view_module_version": "1.2.0",
            "_view_name": "StyleView",
            "description_width": ""
          }
        },
        "b23ff8d3071b4f48aeaf73c38973314b": {
          "model_module": "@jupyter-widgets/base",
          "model_module_version": "1.2.0",
          "model_name": "LayoutModel",
          "state": {
            "_model_module": "@jupyter-widgets/base",
            "_model_module_version": "1.2.0",
            "_model_name": "LayoutModel",
            "_view_count": null,
            "_view_module": "@jupyter-widgets/base",
            "_view_module_version": "1.2.0",
            "_view_name": "LayoutView",
            "align_content": null,
            "align_items": null,
            "align_self": null,
            "border": null,
            "bottom": null,
            "display": null,
            "flex": null,
            "flex_flow": null,
            "grid_area": null,
            "grid_auto_columns": null,
            "grid_auto_flow": null,
            "grid_auto_rows": null,
            "grid_column": null,
            "grid_gap": null,
            "grid_row": null,
            "grid_template_areas": null,
            "grid_template_columns": null,
            "grid_template_rows": null,
            "height": null,
            "justify_content": null,
            "justify_items": null,
            "left": null,
            "margin": null,
            "max_height": null,
            "max_width": null,
            "min_height": null,
            "min_width": null,
            "object_fit": null,
            "object_position": null,
            "order": null,
            "overflow": null,
            "overflow_x": null,
            "overflow_y": null,
            "padding": null,
            "right": null,
            "top": null,
            "visibility": null,
            "width": null
          }
        },
        "c8f3ac2f1e2a464dbdfa781b40da5a8c": {
          "model_module": "@jupyter-widgets/controls",
          "model_module_version": "1.5.0",
          "model_name": "FloatProgressModel",
          "state": {
            "_dom_classes": [],
            "_model_module": "@jupyter-widgets/controls",
            "_model_module_version": "1.5.0",
            "_model_name": "FloatProgressModel",
            "_view_count": null,
            "_view_module": "@jupyter-widgets/controls",
            "_view_module_version": "1.5.0",
            "_view_name": "ProgressView",
            "bar_style": "success",
            "description": "",
            "description_tooltip": null,
            "layout": "IPY_MODEL_0cbffaa3365546c083ff2bc555a62951",
            "max": 546961866,
            "min": 0,
            "orientation": "horizontal",
            "style": "IPY_MODEL_279b2498a5904ec287625ea4c2531cf2",
            "value": 546961866
          }
        },
        "ddaa0780a71a4231944819950117ff97": {
          "model_module": "@jupyter-widgets/base",
          "model_module_version": "1.2.0",
          "model_name": "LayoutModel",
          "state": {
            "_model_module": "@jupyter-widgets/base",
            "_model_module_version": "1.2.0",
            "_model_name": "LayoutModel",
            "_view_count": null,
            "_view_module": "@jupyter-widgets/base",
            "_view_module_version": "1.2.0",
            "_view_name": "LayoutView",
            "align_content": null,
            "align_items": null,
            "align_self": null,
            "border": null,
            "bottom": null,
            "display": null,
            "flex": null,
            "flex_flow": null,
            "grid_area": null,
            "grid_auto_columns": null,
            "grid_auto_flow": null,
            "grid_auto_rows": null,
            "grid_column": null,
            "grid_gap": null,
            "grid_row": null,
            "grid_template_areas": null,
            "grid_template_columns": null,
            "grid_template_rows": null,
            "height": null,
            "justify_content": null,
            "justify_items": null,
            "left": null,
            "margin": null,
            "max_height": null,
            "max_width": null,
            "min_height": null,
            "min_width": null,
            "object_fit": null,
            "object_position": null,
            "order": null,
            "overflow": null,
            "overflow_x": null,
            "overflow_y": null,
            "padding": null,
            "right": null,
            "top": null,
            "visibility": null,
            "width": null
          }
        },
        "e0447abe66e0411cba639563bb5d43ef": {
          "model_module": "@jupyter-widgets/controls",
          "model_module_version": "1.5.0",
          "model_name": "HBoxModel",
          "state": {
            "_dom_classes": [],
            "_model_module": "@jupyter-widgets/controls",
            "_model_module_version": "1.5.0",
            "_model_name": "HBoxModel",
            "_view_count": null,
            "_view_module": "@jupyter-widgets/controls",
            "_view_module_version": "1.5.0",
            "_view_name": "HBoxView",
            "box_style": "",
            "children": [
              "IPY_MODEL_fadeff35a86d48c29ed5b559b2de75c8",
              "IPY_MODEL_c8f3ac2f1e2a464dbdfa781b40da5a8c",
              "IPY_MODEL_5ed9d8d5490e4670b3ef732af2feb5ac"
            ],
            "layout": "IPY_MODEL_ddaa0780a71a4231944819950117ff97"
          }
        },
        "fadeff35a86d48c29ed5b559b2de75c8": {
          "model_module": "@jupyter-widgets/controls",
          "model_module_version": "1.5.0",
          "model_name": "HTMLModel",
          "state": {
            "_dom_classes": [],
            "_model_module": "@jupyter-widgets/controls",
            "_model_module_version": "1.5.0",
            "_model_name": "HTMLModel",
            "_view_count": null,
            "_view_module": "@jupyter-widgets/controls",
            "_view_module_version": "1.5.0",
            "_view_name": "HTMLView",
            "description": "",
            "description_tooltip": null,
            "layout": "IPY_MODEL_b23ff8d3071b4f48aeaf73c38973314b",
            "placeholder": "​",
            "style": "IPY_MODEL_846a9be319a148f78466917538b2a186",
            "value": "pytorch_model.bin: 100%"
          }
        }
      }
    }
  },
  "nbformat": 4,
  "nbformat_minor": 0
}
